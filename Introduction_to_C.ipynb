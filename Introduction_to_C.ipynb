{
  "metadata": {
    "kernelspec": {
      "name": "python",
      "display_name": "Python (Pyodide)",
      "language": "python"
    },
    "language_info": {
      "codemirror_mode": {
        "name": "python",
        "version": 3
      },
      "file_extension": ".py",
      "mimetype": "text/x-python",
      "name": "python",
      "nbconvert_exporter": "python",
      "pygments_lexer": "ipython3",
      "version": "3.8"
    }
  },
  "nbformat_minor": 4,
  "nbformat": 4,
  "cells": [
    {
      "cell_type": "markdown",
      "source": "# Introduction to C++",
      "metadata": {}
    },
    {
      "cell_type": "markdown",
      "source": "## Course Introduction",
      "metadata": {}
    },
    {
      "cell_type": "markdown",
      "source": "This course introduces the basics of C++ programming. We'll cover variables, data types, operators, loops, and functions.\nFor a more interactive experience, these notebooks can be used to write, compile, and execute C++ code directly in the browser.",
      "metadata": {}
    },
    {
      "cell_type": "code",
      "source": "\n#include <iostream>\nusing namespace std;\n\nint main() {\n    int age = 20; // Variable entera\n    double pi = 3.14159; // Variable flotante\n    char grade = 'A'; // Variable de carácter\n    \n    // Mostrar variables\n    cout << \"Edad: \" << age << endl;\n    cout << \"Pi: \" << pi << endl;\n    cout << \"Grado: \" << grade << endl;\n    \n    return 0;\n}\n\n",
      "metadata": {
        "trusted": true
      },
      "outputs": [
        {
          "ename": "<class 'SyntaxError'>",
          "evalue": "invalid syntax (<ipython-input-5-9b5f3ceb161c>, line 2)",
          "traceback": [
            "\u001b[0;36m  Cell \u001b[0;32mIn[5], line 2\u001b[0;36m\u001b[0m\n\u001b[0;31m    using namespace std;\u001b[0m\n\u001b[0m          ^\u001b[0m\n\u001b[0;31mSyntaxError\u001b[0m\u001b[0;31m:\u001b[0m invalid syntax\n"
          ],
          "output_type": "error"
        }
      ],
      "execution_count": 5
    },
    {
      "cell_type": "code",
      "source": "",
      "metadata": {
        "trusted": true
      },
      "outputs": [],
      "execution_count": null
    }
  ]
}
