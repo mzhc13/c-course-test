{
  "metadata": {
    "kernelspec": {
      "name": "SQLite",
      "display_name": "SQLite",
      "language": "sql"
    },
    "language_info": {
      "codemirror_mode": "sql",
      "file_extension": "",
      "mimetype": "",
      "name": "sql",
      "version": "3.32.3"
    }
  },
  "nbformat_minor": 5,
  "nbformat": 4,
  "cells": [
    {
      "id": "360e8b26-8c81-4814-85d1-9e90a23a19c2",
      "cell_type": "markdown",
      "source": "# Introduction",
      "metadata": {}
    },
    {
      "id": "5ac78580-8619-4333-8ff3-6253c632a8b8",
      "cell_type": "markdown",
      "source": "During this course exercises will be provided for self-study to help you learn the foundations of C and C++. You are free to work through these exercises in any way you would like to, but for your convenience we have provided a set of Jupyter notebooks which can be used to interactively write, compile and execute C and C++ code in your browser.\n\nThis notebook explains the workflow for writing and executing code with these notebooks.\n\n<font color=\"red\">These notebooks are provided for ease of instruction and are not intended for any serious programming work. If you continue to use C/ C++ after this course, and *particularly if you are a MISCADA student*, It is **strongly recommended** that you install a C/C++ compiler on your own computer along with whatever editor or IDE you prefer to use. Perhaps the most notable compilers are [GCC](https://gcc.gnu.org/) and [clang](https://clang.llvm.org/).</font>",
      "metadata": {}
    },
    {
      "id": "753de30a-ed87-47d1-91b7-e9086efb103f",
      "cell_type": "markdown",
      "source": "### Jupyter Notebooks",
      "metadata": {}
    },
    {
      "id": "9ac3e958-d8fe-4e92-89ee-69002252f6d8",
      "cell_type": "markdown",
      "source": "Jupyter Notebooks are shareable documents combining text, code and rich multimedia output which are very useful for interactive computing. A notebook is just a series of \"cells\", each of which contains code or text (in [markdown](https://www.markdownguide.org/basic-syntax/) form). You can change the type of a cell with the dropdown menu at the top of the page, shown here:\n\n<div align=\"center\"><img src=\"img/cell-type-menu.png\"></div>\n\nHere are some useful keyboard shortcuts for using notebooks:\n\n| To:                 | Use:             |\n| ---------------------- | --------------------- |\n| Navigate between cells | Up & down keys        |\n| Edit a cell | `Enter` |\n| Leave a cell you are editing | `Esc` |\n| Execute a cell | `Ctrl+Enter` |\n| Execute a cell and select next cell | `Shift+Enter` |\n| Execute a cell and insert a cell after | `Alt+Enter` |",
      "metadata": {}
    },
    {
      "id": "c97448c3-f42c-429b-9d71-53df0e7b36df",
      "cell_type": "markdown",
      "source": "### Kernels",
      "metadata": {}
    },
    {
      "id": "e69e72f0-fd91-4a28-a071-5f3add50fb99",
      "cell_type": "markdown",
      "source": "A notebook is nothing more than a document combining text, code and possibly multimedia. The notebook sends all requests for computation to a [kernel](https://docs.jupyter.org/en/latest/projects/kernels.html) working in the background. You can see the kernel this notebook is using in the top-right corner of the screen alongside an icon indicating its status. This kernel is a custom one developed to make it easier to learn C and C++ in your browser. It allows you to write C and C++ code in a notebook and automatically compiles and runs it for you, showing you the commands used to do so.\n\n<strong><font color=\"red\">Note</font></strong>: If the kernel becomes unresponsive you may have to restart it by going to <mark>**Kernel** -> **Restart Kernel**</mark>.\n\n<!-- <strong><font color=\"red\">Note</font></strong>: Some programs may require input from the user. When this is the case, you should open a terminal by going to <mark>**File** -> **New** -> **Terminal**</mark> and run the program from there. -->\n\nThe kernel used by this notebook is available [here](https://github.com/adamtuft/c-kernel) if you want to try it out locally.",
      "metadata": {}
    },
    {
      "id": "218a5685-7d44-4646-8de4-ec3a00078f78",
      "cell_type": "markdown",
      "source": "# Working with code",
      "metadata": {}
    },
    {
      "id": "a7869b89-12f9-4219-82fc-f627ce02566b",
      "cell_type": "markdown",
      "source": "Let's see what is required to create a simple \"hello world\" program in C. Below is the source code for our program. Execute the code cell (`Ctrl+Enter`) to save it to the file `hello-world.c`:\n\n<strong><font color=\"red\">Note</font></strong>: The `%%file` on the first line is a \"magic\" command to the kernel to save the cell contents to a file. Later we'll see more examples of other magic commands...",
      "metadata": {}
    },
    {
      "id": "e94ab32d-6387-4a1d-9fb8-ef8d751be921",
      "cell_type": "code",
      "source": "%%file hello-world.c\n#include <stdio.h>\n\nint main(void) {\n    printf(\"hello, world!\\n\");\n    return 0;\n}",
      "metadata": {
        "trusted": true
      },
      "outputs": [
        {
          "ename": "Error",
          "evalue": "Load a database to run this command.",
          "traceback": [
            "Error: Load a database to run this command."
          ],
          "output_type": "error"
        }
      ],
      "execution_count": 1
    },
    {
      "id": "49accdb4-3a19-4b04-8183-721ca822a7dd",
      "cell_type": "markdown",
      "source": "The cell below contains a single shell command which lists all files in the current directory. Execute it to see that our file `hello-world.c` was created.\n\n<strong><font color=\"red\">Note</font></strong>: cells with a single line starting with `!` are interpreted as shell commands.",
      "metadata": {}
    },
    {
      "id": "fadd1492-014d-4174-b93b-3a3a049e3133",
      "cell_type": "code",
      "source": "! ls",
      "metadata": {},
      "outputs": [],
      "execution_count": null
    },
    {
      "id": "0f64d054-a1c8-462a-a9c0-1d5d7a97e6ce",
      "cell_type": "markdown",
      "source": "To turn our source file into an executable, we need to compile it. The command below uses `gcc` to compile the source file `hello-world.c` into an executable `hello-world`. Execute this cell to compile the program:",
      "metadata": {}
    },
    {
      "id": "95e7d92b-41a8-4aaf-8365-d829de6c0658",
      "cell_type": "code",
      "source": "! gcc hello-world.c -o hello-world",
      "metadata": {},
      "outputs": [],
      "execution_count": null
    },
    {
      "id": "459b8584-6f17-42ec-b180-0b26959545a4",
      "cell_type": "markdown",
      "source": "Now list the files to see that our executable was created:",
      "metadata": {}
    },
    {
      "id": "e0911b83-b535-4681-a211-27177ef94fe9",
      "cell_type": "code",
      "source": "! ls",
      "metadata": {},
      "outputs": [],
      "execution_count": null
    },
    {
      "id": "a0d70e6f-9a95-4e97-a2a6-bbd82de5df20",
      "cell_type": "markdown",
      "source": "Now run the program:",
      "metadata": {}
    },
    {
      "id": "0590911e-7726-42a7-a2d9-7f00aa755794",
      "cell_type": "code",
      "source": "! ./hello-world",
      "metadata": {},
      "outputs": [],
      "execution_count": null
    },
    {
      "id": "c790f833-79f4-4104-b5b5-c968a6f8ed58",
      "cell_type": "markdown",
      "source": "### Compiling & running code automatically",
      "metadata": {}
    },
    {
      "id": "b8772e26-fd67-4e00-a75d-471ecf8701a0",
      "cell_type": "markdown",
      "source": "The kernel we are using with these notebooks is capable of taking care of compiling and executing our programs for us automatically, so that you can focus on just learning & writing C/C++. Let's see how to do this.\n\nThe code cell below contains the same source code as above, but the first line is different. Code cells which start with `////` followed by a filename (with either the `.c` or `.cpp` extension) are interpreted as source code which should be saved in the specified file. The notebook kernel saves the code in the file and then invokes the compiler, showing you the commands used to do so. It automatically executes the program too, unless you tell it not to. Execute the code cell below to see this in action.\n\nIt is recommended to turn on line numbers by going to <mark>**View** -> **Show Line Numbers**</mark>.\n\nFor a list of magic comments that can be used in code cells, see [this link](https://github.com/adamtuft/c-kernel#available-options).",
      "metadata": {}
    },
    {
      "id": "524b5a3d-d878-4c2a-8fc1-435182e3dddc",
      "cell_type": "code",
      "source": "//// hello-world.c\n#include <stdio.h>\n\nint main(void) {\n    printf(\"hello, world!\\n\");\n    return 0;\n}",
      "metadata": {},
      "outputs": [],
      "execution_count": null
    },
    {
      "id": "1460d0ed-fdd8-41b3-9abc-0dcd778b644c",
      "cell_type": "markdown",
      "source": "The output below the code should look like this:\n\n````\nwrote file hello-world.c\n$> gcc    hello-world.c -o hello-world\n$> ./hello-world \nhello, world!\n````\n\nThis output shows us that the kernel has saved the code in the file `hello-world.c` and has then compiled that file into a program called `hello-world` using the command:\n\n```\ngcc hello-world.c -o hello-world\n```\n\nThen the program has been executed with:\n\n```\n./hello-world\n```\n\nThe output from the program is then shown below this command.",
      "metadata": {}
    },
    {
      "id": "b5382252-93f4-4562-b998-0f3b60dbc839",
      "cell_type": "markdown",
      "source": "This code cell does the same in C++:",
      "metadata": {}
    },
    {
      "id": "71e20189-4e19-4511-bc93-f311165d4b0c",
      "cell_type": "code",
      "source": "//// hello-world-cpp.cpp\n#include <iostream>\n\nint main(){\n    std::cout << \"hello, world!\\n\";\n    return 0;\n}",
      "metadata": {},
      "outputs": [],
      "execution_count": null
    },
    {
      "id": "a0603501-1974-404e-8062-df66fecb1dc7",
      "cell_type": "markdown",
      "source": "## Adding compilation options",
      "metadata": {}
    },
    {
      "id": "f3b764c1-74ac-465a-a453-2d445d1fc62c",
      "cell_type": "markdown",
      "source": "When compiling C/C++ it is often necessary to change the compiler command with various options and flags. As an example, execute the code cell below to save the code to a file and then run the compiler command in the next cell. Add the flags `-Wall` and `-Werror` to the compiler command to see a difference. These flags turn on many useful warnings (`-Wall`) and promote all warnings to errors (`-Werror`).",
      "metadata": {}
    },
    {
      "id": "1b04eaa6-e172-4f4b-8462-631e80cd914d",
      "cell_type": "markdown",
      "source": "<strong><font color=\"red\">Note</font></strong>: Having these flags enabled will help you spot many programming errors while learning C/C++. A **vast** array of compiler options are available. For a list of GCC options, see [this page](https://gcc.gnu.org/onlinedocs/gcc/Option-Summary.html).",
      "metadata": {}
    },
    {
      "id": "3159af61-f936-4d6a-abdc-01d8fe211bf9",
      "cell_type": "code",
      "source": "%%file options.c\n#include <stdio.h>\n\nint main(void) {\n    int k=7;\n    return 0;\n}",
      "metadata": {},
      "outputs": [],
      "execution_count": null
    },
    {
      "id": "99c80c41-9746-4e17-b45a-e71885d0a539",
      "cell_type": "code",
      "source": "! gcc options.c -o options",
      "metadata": {},
      "outputs": [],
      "execution_count": null
    },
    {
      "id": "1d1c7cc0-a4fc-4aee-91c3-a72e0eb33ecb",
      "cell_type": "markdown",
      "source": "As the kernel we are using here invokes the compiler for us automatically, we can add options and flags to the command using this special comment in a code cell:\n\n```\n//% CFLAGS [options and flags ...]\n```\n\nExecute this code cell to see what the result is:",
      "metadata": {}
    },
    {
      "id": "d184d4e7-fbd7-492f-b2f2-16afb29a4f98",
      "cell_type": "code",
      "source": "//// options.c\n//% CFLAGS -Wall -Werror\n#include <stdio.h>\n\nint main(void) {\n    int k=7;\n    return 0;\n}",
      "metadata": {},
      "outputs": [],
      "execution_count": null
    }
  ]
}